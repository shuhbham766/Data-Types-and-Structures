{
  "nbformat": 4,
  "nbformat_minor": 0,
  "metadata": {
    "colab": {
      "provenance": []
    },
    "kernelspec": {
      "name": "python3",
      "display_name": "Python 3"
    },
    "language_info": {
      "name": "python"
    }
  },
  "cells": [
    {
      "cell_type": "markdown",
      "source": [
        "# **thoretical questions**"
      ],
      "metadata": {
        "id": "Kw9Wf2cmPJN8"
      }
    },
    {
      "cell_type": "markdown",
      "source": [
        "# 1)  What are data structures, and why are they important?\n",
        "   - Data structures are the ways of organizing and storing data so that we can use it efficiently.\n",
        "    - importance of data structures:-\n",
        "       - it Helps us to  find, add, update, or delete data quickly.\n",
        "       - Right data structures make programs faster and use less memory.\n",
        "       - proper data structures also reduce the time complexity of algorithms.\n"
      ],
      "metadata": {
        "id": "YYnsaaZoPUpv"
      }
    },
    {
      "cell_type": "markdown",
      "source": [
        "# 2)  Explain the difference between mutable and immutable data types with examples?\n",
        "  - mutable data types :- can changed or update after creation.we can modify their contents, such as adding, removing, or updating elements.These objects allow for in-place modification, which means they can change without creating a new object in memory.\n",
        "                 ex- list,set,dictionary\n",
        "\n",
        "  - immutable data types:- cannot changed or update after creation.\n",
        "    if changes are done, then new object is created\n",
        "           ex- tuple,string,frozenset,int"
      ],
      "metadata": {
        "id": "TcIzqxtTPupn"
      }
    },
    {
      "cell_type": "code",
      "source": [
        "# mutable data types\n",
        "my_list = [1, 2, 3]\n",
        "print('old id :',id(my_list))  # Memory address before\n",
        "\n",
        "my_list.append(4)\n",
        "print(my_list)\n",
        "print('new id :',id(my_list))  # Same memory address → it's mutable\n"
      ],
      "metadata": {
        "colab": {
          "base_uri": "https://localhost:8080/"
        },
        "id": "y8JVonaKRDfm",
        "outputId": "baad6cbe-8dbd-4e0c-842b-415434e83350"
      },
      "execution_count": null,
      "outputs": [
        {
          "output_type": "stream",
          "name": "stdout",
          "text": [
            "old id : 134345457842304\n",
            "[1, 2, 3, 4]\n",
            "new id : 134345457842304\n"
          ]
        }
      ]
    },
    {
      "cell_type": "code",
      "source": [
        "# immutable data types\n",
        "my_str = \"hello\"\n",
        "print('old id :',id(my_str))  # Memory address before\n",
        "\n",
        "my_str += \" world\"\n",
        "print(my_str)\n",
        "print('new id :',id(my_str))  # Different memory address → it's immutable\n"
      ],
      "metadata": {
        "colab": {
          "base_uri": "https://localhost:8080/"
        },
        "id": "1j43s9CKWXH-",
        "outputId": "4cd255bd-a859-4e73-ea24-b514504044a0"
      },
      "execution_count": null,
      "outputs": [
        {
          "output_type": "stream",
          "name": "stdout",
          "text": [
            "old id : 134346261475760\n",
            "hello world\n",
            "new id : 134345877478576\n"
          ]
        }
      ]
    },
    {
      "cell_type": "markdown",
      "source": [
        "# 3)  What are the main differences between lists and tuples in Python?\n",
        "     - list:- mutable(can change or update)\n",
        "              syntax- []\n",
        "\n",
        "     - tuple:- immutable(cannot change or update)\n",
        "              syntax- ()"
      ],
      "metadata": {
        "id": "WjW9YLTMW_r7"
      }
    },
    {
      "cell_type": "markdown",
      "source": [
        "# 4)  Describe how dictionaries store data?\n",
        "  - A dictionary in Python stores data as {key :value} pairs\n"
      ],
      "metadata": {
        "id": "QavA639OYmWF"
      }
    },
    {
      "cell_type": "code",
      "source": [
        "my_dict = {\n",
        "    \"name\": \"Shubham\",\n",
        "    \"age\": 23,\n",
        "    \"city\": \"Pune\"\n",
        "}\n",
        "my_dict"
      ],
      "metadata": {
        "colab": {
          "base_uri": "https://localhost:8080/"
        },
        "id": "ZoJkVJJ0ZEaT",
        "outputId": "8c2890a2-d3be-4fa5-c1b7-d4c47e7144ff"
      },
      "execution_count": null,
      "outputs": [
        {
          "output_type": "execute_result",
          "data": {
            "text/plain": [
              "{'name': 'Shubham', 'age': 23, 'city': 'Pune'}"
            ]
          },
          "metadata": {},
          "execution_count": 11
        }
      ]
    },
    {
      "cell_type": "markdown",
      "source": [
        "# 5)  Why might you use a set instead of a list in Python?\n",
        "  - because To Store Unique Items Only\n"
      ],
      "metadata": {
        "id": "oAjIdybJZQEc"
      }
    },
    {
      "cell_type": "code",
      "source": [
        "my_list = [1,2,2,2,3,3,4,8,3]\n",
        "my_set = set(my_list)\n",
        "print(my_set)"
      ],
      "metadata": {
        "colab": {
          "base_uri": "https://localhost:8080/"
        },
        "id": "UKz9Ki_yaIoG",
        "outputId": "46400522-0a35-4790-a0cb-3e4c88960230"
      },
      "execution_count": null,
      "outputs": [
        {
          "output_type": "stream",
          "name": "stdout",
          "text": [
            "{1, 2, 3, 4, 8}\n"
          ]
        }
      ]
    },
    {
      "cell_type": "markdown",
      "source": [
        "# 6)  What is a string in Python, and how is it different from a list?\n",
        "  - A string is a sequence of characters, used to represent text.it is immutable.\n",
        "           ex-    my_string = \"Hello, World!\"\n",
        "\n",
        "  - list is hetrogeneous collection of data type that can hold a sequence of items (like integers, strings, tuples, floats, or even other lists). Lists are mutable\n",
        "           ex-    my_list = [1, 2, 3, \"Hello\", (4,8,7), [45,87]]\n",
        "\n"
      ],
      "metadata": {
        "id": "ES5gmB00azqM"
      }
    },
    {
      "cell_type": "markdown",
      "source": [
        "# 7) How do tuples ensure data integrity in Python?\n",
        "- Data integrity means keeping your data correct, consistent, and unchangeable.\n",
        "tuples are immutable i.e it cannot be changed or update after creation.therefore,( No adding, removing, or modifying elements.)"
      ],
      "metadata": {
        "id": "I6QDIEovdPIN"
      }
    },
    {
      "cell_type": "code",
      "source": [
        "t = (1, 2, 3)\n",
        "t[0] = 10    # cannot changed\n",
        "output:- error, 'tuple' object does not support item assignment"
      ],
      "metadata": {
        "collapsed": true,
        "id": "YiDz1xSUect2"
      },
      "execution_count": null,
      "outputs": []
    },
    {
      "cell_type": "markdown",
      "source": [
        "# 8)  What is a hash table, and how does it relate to dictionaries in Python?\n",
        "- A hash table is a data structure that stores data in key-value pairs for fast lookup, insertion, and deletion.\n",
        "-Key is hashed using a hash function → turns it into a unique number (hash value)\n",
        "-This hash value decides where to store the value in memory (like an index).\n",
        "-When you access the key, the program uses the hash to instantly find the value.\n",
        "\n",
        "      - In Python, the dict type is implemented using a hash table"
      ],
      "metadata": {
        "id": "_woiLLrteyGU"
      }
    },
    {
      "cell_type": "code",
      "source": [
        "my_dict = {\n",
        "    \"name\": \"Shubham\",\n",
        "    \"age\": 23\n",
        "}\n",
        "print(my_dict.keys())\n",
        "print(my_dict.values())"
      ],
      "metadata": {
        "colab": {
          "base_uri": "https://localhost:8080/"
        },
        "id": "qzwnX258ei44",
        "outputId": "14e387a5-f048-4d03-86c1-897144961816"
      },
      "execution_count": null,
      "outputs": [
        {
          "output_type": "stream",
          "name": "stdout",
          "text": [
            "dict_keys(['name', 'age'])\n",
            "dict_values(['Shubham', 23])\n"
          ]
        }
      ]
    },
    {
      "cell_type": "markdown",
      "source": [
        "# 9)  Can lists contain different data types in Python?\n",
        "- yes,Lists are heterogeneous collections of data types that can hold a sequence of items—such as integers, strings, tuples, floats, or even other lists. They are also mutable, meaning their elements can be changed after the list is created.\n",
        "- ex-    my_list = [1, 2, 3, \"Hello\", (4,8,7), [45,87]]"
      ],
      "metadata": {
        "id": "zKIsElMXBFYM"
      }
    },
    {
      "cell_type": "markdown",
      "source": [
        "# 10)  Explain why strings are immutable in Python?\n",
        "- Strings are immutable in Python, meaning once a string is created, its contents cannot be changed.\n",
        "- it has several benifits:-\n",
        "* a)  Memory Efficiency- Python optimizes memory usage by reusing immutable objects like strings. For example, if multiple variables hold the same string value, Python can point them to the same memory location instead of creating copies.\n",
        "\n",
        "* in case of Immutable Types (like str, int, float, tuple)\n",
        "       x = \"hello\"\n",
        "       y = \"hello\"\n",
        "       print(id(x), id(y))  # Same memory location\n",
        "     This works because they are immutable—Python knows their value won’t change, so it’s safe to reuse them.\n",
        "\n",
        "* in case of Mutable Types (like list, dict, set)\n",
        "       list1 = [1, 2, 3]\n",
        "       list2 = [1, 2, 3]\n",
        "      print(id(list1), id(list2))  # Different memory locations\n",
        "     even though list1 and list2 have the same contents,but they are separate objects. That’s because if one changes, the other should not be affected.\n",
        "\n",
        "\n",
        "\n",
        "* b) Hashing & Dictionary Keys- Because strings are immutable, they can be used as keys in dictionaries and elements in sets.\n",
        "\n",
        "* c) Thread-Safety- Immutability makes strings inherently thread-safe, reducing issues when multiple threads access the same string data.\n",
        "\n",
        "* let's Imagine two threads both accessing the same string\n",
        "* ex-\n",
        "      s = \"data\"\n",
        "      Thread 1 reads s\n",
        "      Thread 2 reads s\n",
        "Since no thread can modify s, it's guaranteed that they're both seeing the exact same data.\n",
        "* In multithreaded programs:\n",
        "   Immutable objects (like strings) don’t need locks or synchronization.\n",
        "   This makes your program faster and safer without extra code.\n",
        "\n",
        "\n",
        "\n"
      ],
      "metadata": {
        "id": "xErtr2CfB6k6"
      }
    },
    {
      "cell_type": "markdown",
      "source": [
        "# 11)  What advantages do dictionaries offer over lists for certain tasks?\n",
        "-Dictionaries (dict) offer some key advantages over lists (list) because dictionaries offers key-value pairs and provide fast lookups.\n",
        "* dictionary advantages over list:-\n",
        "-a) Faster Lookup Time-\n",
        " - List: Searching for an item in a list takes O(n) time (linear search).\n",
        " - Dict: Looking up a value by key in a dictionary takes O(1) time on average.\n",
        "-TIME COMPLEXITY-\n",
        "     students = ['Amit', 'Riya', 'John']\n",
        "     print('John' in students)  # O(n)\n",
        "\n",
        "     student_marks = {'Amit': 85, 'Riya': 90, 'John': 78}\n",
        "     print('John' in student_marks)  # O(1)\n",
        "-b) Key-Value Mapping- dictionary makes your code cleaner and more meaningful because of providing {key:value} pairs.\n",
        " - Avoiding Duplicates in Keys- Dictionaries do not allow duplicate keys, so you can use them to store unique identifiers (like usernames, IDs, etc.)\n",
        "-c) No Need to Remember Indexes.\n"
      ],
      "metadata": {
        "id": "EaI8S0VgJ1aV"
      }
    },
    {
      "cell_type": "markdown",
      "source": [
        "# 12)  Describe a scenario where using a tuple would be preferable over a list?\n",
        "-  Use a Tuple When You Want Immutable, Fixed-Size Data.\n",
        "-\n",
        "     point = (10, 20)    # for 2-D cordinates\n",
        "- Using a tuple here is preferable over a list because:\n",
        "\n",
        " - The number of elements is fixed (always two: x and y).\n",
        " - You don’t want this data to be changed accidentally.\n",
        " - It's semantically meaningful—this is a single, grouped unit of related values.\n",
        "\n",
        "-  Tuples Are Immutable. so it's provide:-\n",
        " - Safety: Prevents accidental changes.\n",
        " - Hashability: Tuples can be used as keys in dictionaries or elements in sets (lists can't).\n",
        "-\n",
        "     locations = {\n",
        "     (10, 20): \"School\",\n",
        "     (15, 25): \"Library\"\n",
        "     }\n",
        "- Using a list as a key here would raise an error!\n"
      ],
      "metadata": {
        "id": "WLQAkvYXN3FT"
      }
    },
    {
      "cell_type": "markdown",
      "source": [
        "# 13) How do sets handle duplicate values in Python?\n",
        "- Sets Automatically Remove Duplicates. A set is an unordered collection of unique elements. That means, Any duplicate values are automatically removed when the set is created or updated.\n",
        "\n",
        "- sets use hashing to check for duplicates. If the item already exists (same hash & value), it’s not added again.\n",
        " - Hash Function is Called: When you add an item (like a number, string, or tuple) to a set, Python calls its built-in __hash__() function.\n",
        "  - Hash Value Determines Where to Store It: The hash value determines the index (or \"bucket\") in the internal table where the item should go.\n",
        "  - Equality Check for Collisions: If another item with the same hash already exists in that spot, Python uses __eq__() to check if the item is actually the same (in case of hash collisions).\n",
        "  - If It's Already There → Skip It. If the item is already present (same hash and equality), Python does not add it again.\n",
        "-\n",
        "\n",
        "      s = set()\n",
        "      s.add(10)\n",
        "      s.add(10)  # Duplicate\n",
        "      Behind the scenes:\n",
        "       - hash(10) is called\n",
        "       - Set checks if that hash already exists\n",
        "       - It does → no new element is added\n"
      ],
      "metadata": {
        "id": "W9-H3ozcKT5P"
      }
    },
    {
      "cell_type": "code",
      "source": [
        "my_set = {1, 2, 2, 3, 4, 4, 4, 5}\n",
        "print(my_set)\n"
      ],
      "metadata": {
        "id": "AHNhEVQqhI20",
        "colab": {
          "base_uri": "https://localhost:8080/"
        },
        "outputId": "2d9913a0-bbf6-4ea8-9180-66055c9256eb"
      },
      "execution_count": null,
      "outputs": [
        {
          "output_type": "stream",
          "name": "stdout",
          "text": [
            "{1, 2, 3, 4, 5}\n"
          ]
        }
      ]
    },
    {
      "cell_type": "markdown",
      "source": [
        "# 14)  How does the “in” keyword work differently for lists and dictionaries?\n",
        "- When you use in with a list, Python does a linear search through the list elements.\n",
        "-\n",
        "     my_list = [10, 20, 30, 40]\n",
        "     print(20 in my_list)\n",
        "     output:-  True\n",
        "     Python goes through each element one by one.\n",
        "     Time complexity: O(n) (slower for long lists)\n",
        "- When you use in with a dictionary, Python checks for the existence of a key, not the value.\n",
        "-\n",
        "     my_dict = {'a': 1, 'b': 2}\n",
        "     print('a' in my_dict)    \n",
        "     output:-  True (key check)\n",
        "\n",
        "     print(1 in my_dict)      \n",
        "     output:-  False (1 is a value, not a key)\n",
        "\n",
        "     dictionary uses a hash table to check for keys.\n",
        "     Very fast: O(1) on average.  # time complexity\n",
        "\n",
        "\n"
      ],
      "metadata": {
        "id": "Bz1bz_GoUJCw"
      }
    },
    {
      "cell_type": "markdown",
      "source": [
        "# 15) Can you modify the elements of a tuple? Explain why or why not?\n",
        "- No, Because tuples are immutable. Once a tuple is created, its size and elements cannot be changed—no add, no remove, no update."
      ],
      "metadata": {
        "id": "je4dM1FtWXE0"
      }
    },
    {
      "cell_type": "markdown",
      "source": [
        "# 16) What is a nested dictionary, and give an example of its use case?\n",
        "- A nested dictionary is simply a dictionary inside another dictionary.\n",
        " it helps you to Represent complex, structured data."
      ],
      "metadata": {
        "id": "4qlO7EaiXUNb"
      }
    },
    {
      "cell_type": "code",
      "source": [
        "# Student Database\n",
        "\n",
        "students = {\n",
        "    \"101\": {\n",
        "        \"name\": \"Shubham\",\n",
        "        \"age\": 22,\n",
        "        \"marks\": {\"math\": 90, \"physics\": 85}\n",
        "    },\n",
        "    \"102\": {\n",
        "        \"name\": \"Riya\",\n",
        "        \"age\": 21,\n",
        "        \"marks\": {\"math\": 88, \"physics\": 92}\n",
        "    }\n",
        "}\n",
        "print(students)\n",
        "\n",
        "# Outer dictionary keys: student IDs (\"101\", \"102\")\n",
        "# Inner dictionaries: details about each student\n",
        "\n",
        "print(students[\"101\"][\"name\"])\n",
        "print(students[\"102\"][\"marks\"][\"math\"])\n"
      ],
      "metadata": {
        "colab": {
          "base_uri": "https://localhost:8080/"
        },
        "id": "iGxuiAilXltT",
        "outputId": "93e3382c-3077-4e47-c3ee-1ff3fd6ca3f4"
      },
      "execution_count": null,
      "outputs": [
        {
          "output_type": "stream",
          "name": "stdout",
          "text": [
            "{'101': {'name': 'Shubham', 'age': 22, 'marks': {'math': 90, 'physics': 85}}, '102': {'name': 'Riya', 'age': 21, 'marks': {'math': 88, 'physics': 92}}}\n",
            "Shubham\n",
            "88\n"
          ]
        }
      ]
    },
    {
      "cell_type": "markdown",
      "source": [
        "# 17)  Describe the time complexity of accessing elements in a dictionary?\n",
        "-  Average Case: O(1)\n",
        "- Accessing an element by key is constant time on average.\n",
        "- Python internally uses a hash table to store and manage dictionary data efficiently.so it can jump straight to the memory location of the value using the key’s hash."
      ],
      "metadata": {
        "id": "3S3G3X6yYxAR"
      }
    },
    {
      "cell_type": "code",
      "source": [
        "my_dict = {\"name\": \"Shubham\", \"age\": 22}\n",
        "print(my_dict[\"name\"])                            # time complexity-  O(1)\n"
      ],
      "metadata": {
        "colab": {
          "base_uri": "https://localhost:8080/"
        },
        "id": "NhNjtvRqZwaU",
        "outputId": "50e2a732-1f35-4203-d6c5-9df92cc7235a"
      },
      "execution_count": null,
      "outputs": [
        {
          "output_type": "stream",
          "name": "stdout",
          "text": [
            "Shubham\n"
          ]
        }
      ]
    },
    {
      "cell_type": "markdown",
      "source": [
        "# 18)  In what situations are lists preferred over dictionaries?\n",
        "- If you're just storing a sequence of values and don’t need to associate them with keys, go with a list.\n",
        "       fruits = [\"apple\", \"banana\", \"mango\"]  # Simple ordered collection\n",
        "-Lists allow duplicate values.In contrast, dictionary keys must be unique.\n",
        "- list allows Index-based search access.\n",
        "-  Iterating Over a Simple Collection.\n",
        " - When you just want to loop over values, a list is more natural:\n",
        "         for fruit in fruits:\n",
        "         print(fruit)\n",
        "\n"
      ],
      "metadata": {
        "id": "f28AwaXHZ_7j"
      }
    },
    {
      "cell_type": "markdown",
      "source": [
        "# 19)  Why are dictionaries considered unordered, and how does that affect data retrieval?\n",
        "- Originally (before Python 3.7), dictionaries were considered unordered collections, meaning, They didn't guarantee that items would stay in the same order in which you added them.\n",
        "- but,Since Python 3.7, dictionaries now preserve insertion order.However, even with this change, dictionaries are still referred to as unordered collections because their primary function is to provide fast access to values via keys, rather than to serve as ordered collections like lists or tuples.\n",
        "\n",
        "- How Does Unordered Nature Affect Data Retrieval?\n",
        "  * No Index-Based Access:- Since dictionaries are unordered, you cannot rely on indices (like in lists) to access elements. Instead, you must use keys to retrieve values.\n",
        "  * Iteration Order:- Iterating over a dictionary (e.g., using a for loop) does not guarantee a specific order unless the dictionary explicitly maintains insertion order (as in Python 3.7+).\n",
        "  * Efficiency of Lookups:- The unordered nature allows dictionaries to achieve average-case O(1) time complexity for lookups, insertions, and deletions, making them highly efficient for key-based operations.\n",
        "  *"
      ],
      "metadata": {
        "id": "Lvk8Zt-fcHPr"
      }
    },
    {
      "cell_type": "code",
      "source": [
        "# Example in Python (3.7+):\n",
        "\n",
        "my_dict = {\"a\": 1, \"b\": 2, \"c\": 3}\n",
        "for key in my_dict:\n",
        "    print(key)\n"
      ],
      "metadata": {
        "colab": {
          "base_uri": "https://localhost:8080/"
        },
        "id": "5bVOUW_xdHuQ",
        "outputId": "408d0024-0b7b-4d14-f070-7fac0ee18db4"
      },
      "execution_count": null,
      "outputs": [
        {
          "output_type": "stream",
          "name": "stdout",
          "text": [
            "a\n",
            "b\n",
            "c\n"
          ]
        }
      ]
    },
    {
      "cell_type": "markdown",
      "source": [
        "# 20) Explain the difference between a list and a dictionary in terms of data retrieval?\n",
        "- a) List – Index-Based data Retrieval"
      ],
      "metadata": {
        "id": "dQETrmqcGMWk"
      }
    },
    {
      "cell_type": "code",
      "source": [
        "my_list = [\"apple\", \"banana\", \"cherry\"]\n",
        "print(my_list[1])"
      ],
      "metadata": {
        "colab": {
          "base_uri": "https://localhost:8080/"
        },
        "id": "o_CD1kfJGpm-",
        "outputId": "024291e8-4aff-4cfa-d267-77aa97535731"
      },
      "execution_count": null,
      "outputs": [
        {
          "output_type": "stream",
          "name": "stdout",
          "text": [
            "banana\n"
          ]
        }
      ]
    },
    {
      "cell_type": "markdown",
      "source": [
        "- b) Dictionary – Key-Based data Retrieval"
      ],
      "metadata": {
        "id": "es2ZDwvIGtVo"
      }
    },
    {
      "cell_type": "code",
      "source": [
        "my_dict = {\"name\": \"Shubham\", \"age\": 22}\n",
        "print(my_dict[\"name\"])\n"
      ],
      "metadata": {
        "id": "MjmDNTb7YJ-8",
        "colab": {
          "base_uri": "https://localhost:8080/"
        },
        "outputId": "3c29b317-8e96-4f57-ed54-8c4ff080128b"
      },
      "execution_count": null,
      "outputs": [
        {
          "output_type": "stream",
          "name": "stdout",
          "text": [
            "Shubham\n"
          ]
        }
      ]
    },
    {
      "cell_type": "markdown",
      "source": [
        "**practical questions**"
      ],
      "metadata": {
        "id": "AIEhU-WpHJ2B"
      }
    },
    {
      "cell_type": "markdown",
      "source": [
        "# 1)  Write a code to create a string with your name and print it"
      ],
      "metadata": {
        "id": "NFovhWYJHO03"
      }
    },
    {
      "cell_type": "code",
      "source": [
        "x=input(\"enter your name :\")\n",
        "print(x)"
      ],
      "metadata": {
        "id": "SCJs12UqHYOh",
        "colab": {
          "base_uri": "https://localhost:8080/"
        },
        "outputId": "272a8b29-ccbf-4328-96ea-cd6fcf9161da"
      },
      "execution_count": 6,
      "outputs": [
        {
          "output_type": "stream",
          "name": "stdout",
          "text": [
            "enter your name :SHUBHAM KUMAR\n",
            "SHUBHAM KUMAR\n"
          ]
        }
      ]
    },
    {
      "cell_type": "markdown",
      "source": [
        "# 2) Write a code to find the length of the string \"Hello World\""
      ],
      "metadata": {
        "id": "IZXzjUc6ISrb"
      }
    },
    {
      "cell_type": "code",
      "source": [
        "x= \"Hello World\"\n",
        "print(len(x))"
      ],
      "metadata": {
        "colab": {
          "base_uri": "https://localhost:8080/"
        },
        "id": "yDkHf9aEIhHH",
        "outputId": "ddab6e06-ae3c-4011-8f68-c7ffa1005258"
      },
      "execution_count": 7,
      "outputs": [
        {
          "output_type": "stream",
          "name": "stdout",
          "text": [
            "11\n"
          ]
        }
      ]
    },
    {
      "cell_type": "markdown",
      "source": [
        "# 3)  Write a code to slice the first 3 characters from the string \"Python Programming\""
      ],
      "metadata": {
        "id": "A4Wu3p3kIvie"
      }
    },
    {
      "cell_type": "code",
      "source": [
        "x=\"Python Programming\"\n",
        "x[0:3]"
      ],
      "metadata": {
        "colab": {
          "base_uri": "https://localhost:8080/",
          "height": 36
        },
        "id": "eY2YiRDJIqHq",
        "outputId": "3e5b4522-8761-45c3-f293-fd36e194dd3e"
      },
      "execution_count": 8,
      "outputs": [
        {
          "output_type": "execute_result",
          "data": {
            "text/plain": [
              "'Pyt'"
            ],
            "application/vnd.google.colaboratory.intrinsic+json": {
              "type": "string"
            }
          },
          "metadata": {},
          "execution_count": 8
        }
      ]
    },
    {
      "cell_type": "markdown",
      "source": [
        "# 4)  Write a code to convert the string \"hello\" to uppercase"
      ],
      "metadata": {
        "id": "yVpRlMbkJG38"
      }
    },
    {
      "cell_type": "code",
      "source": [
        "x=\"hello\"\n",
        "print(x.upper())\n",
        "print(x.swapcase())"
      ],
      "metadata": {
        "colab": {
          "base_uri": "https://localhost:8080/"
        },
        "id": "5tEodaSFI-ny",
        "outputId": "aa94c0df-9cd9-4bc5-f06a-6e90f21cbef4"
      },
      "execution_count": 13,
      "outputs": [
        {
          "output_type": "stream",
          "name": "stdout",
          "text": [
            "HELLO\n",
            "HELLO\n"
          ]
        }
      ]
    },
    {
      "cell_type": "markdown",
      "source": [
        "# 5)  Write a code to replace the word \"apple\" with \"orange\" in the string \"I like apple\""
      ],
      "metadata": {
        "id": "ik_sQcG2KLnR"
      }
    },
    {
      "cell_type": "code",
      "source": [
        "x=\"I like apple\"\n",
        "x.replace(\"apple\",\"orange\")"
      ],
      "metadata": {
        "colab": {
          "base_uri": "https://localhost:8080/",
          "height": 36
        },
        "id": "yoPZZx67JUK5",
        "outputId": "0056f94c-8319-4ebc-e3f3-1324cb3a8927"
      },
      "execution_count": 14,
      "outputs": [
        {
          "output_type": "execute_result",
          "data": {
            "text/plain": [
              "'I like orange'"
            ],
            "application/vnd.google.colaboratory.intrinsic+json": {
              "type": "string"
            }
          },
          "metadata": {},
          "execution_count": 14
        }
      ]
    },
    {
      "cell_type": "markdown",
      "source": [
        "# 6)  Write a code to create a list with numbers 1 to 5 and print it"
      ],
      "metadata": {
        "id": "e-9LorkAKbmA"
      }
    },
    {
      "cell_type": "code",
      "source": [
        "x=[i for i in range(1,6)]\n",
        "x"
      ],
      "metadata": {
        "colab": {
          "base_uri": "https://localhost:8080/"
        },
        "id": "AUaB1lcJKmWa",
        "outputId": "ee643415-c909-448d-99a4-042718770cd1"
      },
      "execution_count": 16,
      "outputs": [
        {
          "output_type": "execute_result",
          "data": {
            "text/plain": [
              "[1, 2, 3, 4, 5]"
            ]
          },
          "metadata": {},
          "execution_count": 16
        }
      ]
    },
    {
      "cell_type": "markdown",
      "source": [
        "# 7)  Write a code to append the number 10 to the list [1, 2, 3, 4]"
      ],
      "metadata": {
        "id": "xe0P6XFhLBv6"
      }
    },
    {
      "cell_type": "code",
      "source": [
        "x=[1, 2, 3, 4]\n",
        "x.append(10)\n",
        "x"
      ],
      "metadata": {
        "colab": {
          "base_uri": "https://localhost:8080/"
        },
        "id": "lMipaNK1K5GD",
        "outputId": "959afb11-4903-4157-e224-735abdb3ebba"
      },
      "execution_count": 17,
      "outputs": [
        {
          "output_type": "execute_result",
          "data": {
            "text/plain": [
              "[1, 2, 3, 4, 10]"
            ]
          },
          "metadata": {},
          "execution_count": 17
        }
      ]
    },
    {
      "cell_type": "markdown",
      "source": [
        "# 8)  Write a code to remove the number 3 from the list [1, 2, 3, 4, 5]"
      ],
      "metadata": {
        "id": "-eKCJwfFLTun"
      }
    },
    {
      "cell_type": "code",
      "source": [
        "x=[1, 2, 3, 4, 5]\n",
        "x.remove(3)\n",
        "x"
      ],
      "metadata": {
        "colab": {
          "base_uri": "https://localhost:8080/"
        },
        "id": "xoHE-1UPLOY7",
        "outputId": "caee70a4-1b6a-40ef-d4ef-e4faa3482c9e"
      },
      "execution_count": 18,
      "outputs": [
        {
          "output_type": "execute_result",
          "data": {
            "text/plain": [
              "[1, 2, 4, 5]"
            ]
          },
          "metadata": {},
          "execution_count": 18
        }
      ]
    },
    {
      "cell_type": "markdown",
      "source": [
        "# 9)  Write a code to access the second element in the list ['a', 'b', 'c', 'd']"
      ],
      "metadata": {
        "id": "bPriqa7ZLhCa"
      }
    },
    {
      "cell_type": "code",
      "source": [
        "x=['a', 'b', 'c', 'd']\n",
        "x[1]"
      ],
      "metadata": {
        "colab": {
          "base_uri": "https://localhost:8080/",
          "height": 36
        },
        "id": "Eq1r0E7HLfEO",
        "outputId": "ff2948ed-e76c-447f-be95-8c3302c56509"
      },
      "execution_count": 19,
      "outputs": [
        {
          "output_type": "execute_result",
          "data": {
            "text/plain": [
              "'b'"
            ],
            "application/vnd.google.colaboratory.intrinsic+json": {
              "type": "string"
            }
          },
          "metadata": {},
          "execution_count": 19
        }
      ]
    },
    {
      "cell_type": "markdown",
      "source": [
        "# 10)  Write a code to reverse the list [10, 20, 30, 40, 50]."
      ],
      "metadata": {
        "id": "7xKhfOo9MBN_"
      }
    },
    {
      "cell_type": "code",
      "source": [
        "x=[10, 20, 30, 40, 50]\n",
        "print(x[::-1])"
      ],
      "metadata": {
        "colab": {
          "base_uri": "https://localhost:8080/"
        },
        "id": "PbQD6Q7YLxlI",
        "outputId": "8d07dfdf-c25a-464c-f277-483c2a9760fe"
      },
      "execution_count": 20,
      "outputs": [
        {
          "output_type": "stream",
          "name": "stdout",
          "text": [
            "[50, 40, 30, 20, 10]\n"
          ]
        }
      ]
    },
    {
      "cell_type": "markdown",
      "source": [
        "# 11) Write a code to create a tuple with the elements 100, 200, 300 and print it."
      ],
      "metadata": {
        "id": "w6wD_tqNMT_4"
      }
    },
    {
      "cell_type": "code",
      "source": [
        "x=tuple(map(int,input(\"enter a number\").split()))\n",
        "x"
      ],
      "metadata": {
        "colab": {
          "base_uri": "https://localhost:8080/"
        },
        "id": "lIObg6TiMOrT",
        "outputId": "a5cd0b8e-92ca-426c-bad6-281506239036"
      },
      "execution_count": 25,
      "outputs": [
        {
          "name": "stdout",
          "output_type": "stream",
          "text": [
            "enter a number100 200 300\n"
          ]
        },
        {
          "output_type": "execute_result",
          "data": {
            "text/plain": [
              "(100, 200, 300)"
            ]
          },
          "metadata": {},
          "execution_count": 25
        }
      ]
    },
    {
      "cell_type": "markdown",
      "source": [
        "# 12. Write a code to access the second-to-last element of the tuple ('red', 'green', 'blue', 'yellow')."
      ],
      "metadata": {
        "id": "jQDeZ5GoRXk1"
      }
    },
    {
      "cell_type": "code",
      "source": [
        "x= ('red', 'green', 'blue', 'yellow')\n",
        "x[1:]"
      ],
      "metadata": {
        "colab": {
          "base_uri": "https://localhost:8080/"
        },
        "id": "EqR1eEshREjL",
        "outputId": "f5428b4f-6698-44e8-8116-3106e2fa79d0"
      },
      "execution_count": 29,
      "outputs": [
        {
          "output_type": "execute_result",
          "data": {
            "text/plain": [
              "('green', 'blue', 'yellow')"
            ]
          },
          "metadata": {},
          "execution_count": 29
        }
      ]
    },
    {
      "cell_type": "markdown",
      "source": [
        "#  13. Write a code to find the minimum number in the tuple (10, 20, 5, 15)."
      ],
      "metadata": {
        "id": "glXKmJqdR-sY"
      }
    },
    {
      "cell_type": "code",
      "source": [
        "x=min(10, 20, 5, 15)\n",
        "x"
      ],
      "metadata": {
        "colab": {
          "base_uri": "https://localhost:8080/"
        },
        "id": "XY6yYmqwRp-x",
        "outputId": "837a547b-344c-46bc-a6e8-ab6cf554bb2e"
      },
      "execution_count": 30,
      "outputs": [
        {
          "output_type": "execute_result",
          "data": {
            "text/plain": [
              "5"
            ]
          },
          "metadata": {},
          "execution_count": 30
        }
      ]
    },
    {
      "cell_type": "markdown",
      "source": [
        "#  14. Write a code to find the index of the element \"cat\" in the tuple ('dog', 'cat', 'rabbit')"
      ],
      "metadata": {
        "id": "JpA8NPfZSNnq"
      }
    },
    {
      "cell_type": "code",
      "source": [
        "x=('dog', 'cat', 'rabbit')\n",
        "x.index('cat')"
      ],
      "metadata": {
        "colab": {
          "base_uri": "https://localhost:8080/"
        },
        "id": "wynsBIOcSIo4",
        "outputId": "5e518fcf-ca3c-4d90-8791-e31770da8f79"
      },
      "execution_count": 31,
      "outputs": [
        {
          "output_type": "execute_result",
          "data": {
            "text/plain": [
              "1"
            ]
          },
          "metadata": {},
          "execution_count": 31
        }
      ]
    },
    {
      "cell_type": "markdown",
      "source": [
        "# 15. Write a code to create a tuple containing three different fruits and check if \"kiwi\" is in it"
      ],
      "metadata": {
        "id": "SOE8o4qzSbpo"
      }
    },
    {
      "cell_type": "code",
      "source": [
        "x = tuple(input(\"Enter fruits: \").split())\n",
        "if \"kiwi\" in x:\n",
        "    print(\"kiwi is in it\")\n",
        "else:\n",
        "    print(\"kiwi is not in it\")"
      ],
      "metadata": {
        "colab": {
          "base_uri": "https://localhost:8080/"
        },
        "id": "i7gNvpijSZaU",
        "outputId": "323c4360-e947-485c-bfb7-64a4727a71f1"
      },
      "execution_count": 32,
      "outputs": [
        {
          "output_type": "stream",
          "name": "stdout",
          "text": [
            "Enter fruits: apple banana guava\n",
            "kiwi is not in it\n"
          ]
        }
      ]
    },
    {
      "cell_type": "markdown",
      "source": [
        "# 16. Write a code to create a set with the elements 'a', 'b', 'c' and print it"
      ],
      "metadata": {
        "id": "nIL4BUITT2wQ"
      }
    },
    {
      "cell_type": "code",
      "source": [
        "my_set = {'a', 'b', 'c'}\n",
        "print(my_set)\n"
      ],
      "metadata": {
        "colab": {
          "base_uri": "https://localhost:8080/"
        },
        "id": "mauhkYp1TtCr",
        "outputId": "8fddd82c-4acf-4b6e-eb79-9b3b600d1a46"
      },
      "execution_count": 33,
      "outputs": [
        {
          "output_type": "stream",
          "name": "stdout",
          "text": [
            "{'b', 'c', 'a'}\n"
          ]
        }
      ]
    },
    {
      "cell_type": "markdown",
      "source": [
        "# 17. Write a code to clear all elements from the set {1, 2, 3, 4, 5}"
      ],
      "metadata": {
        "id": "ZHAlO44nUbZo"
      }
    },
    {
      "cell_type": "code",
      "source": [
        "x={1, 2, 3, 4, 5}\n",
        "x.clear()\n",
        "x"
      ],
      "metadata": {
        "colab": {
          "base_uri": "https://localhost:8080/"
        },
        "id": "rYoIXmKGUU2-",
        "outputId": "23341786-92de-4e12-a558-eeebf2fc0a44"
      },
      "execution_count": 34,
      "outputs": [
        {
          "output_type": "execute_result",
          "data": {
            "text/plain": [
              "set()"
            ]
          },
          "metadata": {},
          "execution_count": 34
        }
      ]
    },
    {
      "cell_type": "markdown",
      "source": [
        "#  18. Write a code to remove the element 4 from the set {1, 2, 3, 4}"
      ],
      "metadata": {
        "id": "YoHZsdkfUp73"
      }
    },
    {
      "cell_type": "code",
      "source": [
        "x={1, 2, 3, 4}\n",
        "x.remove(4)\n",
        "x"
      ],
      "metadata": {
        "colab": {
          "base_uri": "https://localhost:8080/"
        },
        "id": "zRFMB3F3UmBL",
        "outputId": "900a9442-0c09-4c36-e32c-87a7c19d1bf0"
      },
      "execution_count": 35,
      "outputs": [
        {
          "output_type": "execute_result",
          "data": {
            "text/plain": [
              "{1, 2, 3}"
            ]
          },
          "metadata": {},
          "execution_count": 35
        }
      ]
    },
    {
      "cell_type": "markdown",
      "source": [
        "#  19. Write a code to find the union of two sets {1, 2, 3} and {3, 4, 5}"
      ],
      "metadata": {
        "id": "Dd4DAIqvU1zZ"
      }
    },
    {
      "cell_type": "code",
      "source": [
        "s1={1, 2, 3}\n",
        "s2={3, 4, 5}\n",
        "s1.union(s2)"
      ],
      "metadata": {
        "colab": {
          "base_uri": "https://localhost:8080/"
        },
        "id": "y3e3kmIoUySk",
        "outputId": "8f1c3cce-811b-4a17-f911-19008cc2c0bd"
      },
      "execution_count": 36,
      "outputs": [
        {
          "output_type": "execute_result",
          "data": {
            "text/plain": [
              "{1, 2, 3, 4, 5}"
            ]
          },
          "metadata": {},
          "execution_count": 36
        }
      ]
    },
    {
      "cell_type": "markdown",
      "source": [
        "#  20. Write a code to find the intersection of two sets {1, 2, 3} and {2, 3, 4}"
      ],
      "metadata": {
        "id": "kiKzF6XdVFTh"
      }
    },
    {
      "cell_type": "code",
      "source": [
        "s1={1, 2, 3}\n",
        "s2={3, 4, 5}\n",
        "s1&(s2)"
      ],
      "metadata": {
        "colab": {
          "base_uri": "https://localhost:8080/"
        },
        "id": "uPSs7oBDVCJP",
        "outputId": "5b4707b8-c89d-46d7-a7a2-8821d4535772"
      },
      "execution_count": 37,
      "outputs": [
        {
          "output_type": "execute_result",
          "data": {
            "text/plain": [
              "{3}"
            ]
          },
          "metadata": {},
          "execution_count": 37
        }
      ]
    },
    {
      "cell_type": "markdown",
      "source": [
        "#  21. Write a code to create a dictionary with the keys \"name\", \"age\", and \"city\", and print it"
      ],
      "metadata": {
        "id": "rG8Imsh8VjUE"
      }
    },
    {
      "cell_type": "code",
      "source": [
        "dict={\"name\":\"shubham\", \"age\":\"25\", \"city\":\"dhanbad\"}\n",
        "dict"
      ],
      "metadata": {
        "colab": {
          "base_uri": "https://localhost:8080/"
        },
        "id": "nPAegFFOVT9c",
        "outputId": "13cbc934-c6f2-4465-d0b2-f822da691fee"
      },
      "execution_count": 38,
      "outputs": [
        {
          "output_type": "execute_result",
          "data": {
            "text/plain": [
              "{'name': 'shubham', 'age': '25', 'city': 'dhanbad'}"
            ]
          },
          "metadata": {},
          "execution_count": 38
        }
      ]
    },
    {
      "cell_type": "markdown",
      "source": [
        "# 22. Write a code to add a new key-value pair \"country\": \"USA\" to the dictionary {'name': 'John', 'age': 25}"
      ],
      "metadata": {
        "id": "fYf9RNrtWEzi"
      }
    },
    {
      "cell_type": "code",
      "source": [
        "x={'name': 'John', 'age': 25}\n",
        "x[\"country\"]=\"USA\"\n",
        "x"
      ],
      "metadata": {
        "colab": {
          "base_uri": "https://localhost:8080/"
        },
        "id": "xjpJY3OSV7Wp",
        "outputId": "2666d5d9-3c49-479a-f697-23a307be7ee6"
      },
      "execution_count": 39,
      "outputs": [
        {
          "output_type": "execute_result",
          "data": {
            "text/plain": [
              "{'name': 'John', 'age': 25, 'country': 'USA'}"
            ]
          },
          "metadata": {},
          "execution_count": 39
        }
      ]
    },
    {
      "cell_type": "markdown",
      "source": [
        "# 23. Write a code to access the value associated with the key \"name\" in the dictionary {'name': 'Alice', 'age': 30}"
      ],
      "metadata": {
        "id": "dBa4_6-lWiwh"
      }
    },
    {
      "cell_type": "code",
      "source": [
        "x={'name': 'Alice', 'age': 30}\n",
        "x[\"name\"]"
      ],
      "metadata": {
        "colab": {
          "base_uri": "https://localhost:8080/",
          "height": 36
        },
        "id": "RvZF1TmhWXhz",
        "outputId": "46f64b60-3eb2-46af-a6a4-32685b0c205e"
      },
      "execution_count": 40,
      "outputs": [
        {
          "output_type": "execute_result",
          "data": {
            "text/plain": [
              "'Alice'"
            ],
            "application/vnd.google.colaboratory.intrinsic+json": {
              "type": "string"
            }
          },
          "metadata": {},
          "execution_count": 40
        }
      ]
    },
    {
      "cell_type": "markdown",
      "source": [
        "#  24. Write a code to remove the key \"age\" from the dictionary {'name': 'Bob', 'age': 22, 'city': 'New York'}"
      ],
      "metadata": {
        "id": "lr0bNDOcW2bB"
      }
    },
    {
      "cell_type": "code",
      "source": [
        "x = {'name': 'Bob', 'age': 22, 'city': 'New York'}\n",
        "x.pop('age')\n",
        "\n",
        "print(x)\n"
      ],
      "metadata": {
        "colab": {
          "base_uri": "https://localhost:8080/"
        },
        "id": "u2xLHFe4WwFv",
        "outputId": "eaaf878d-abc0-44d4-9505-f6c25b341d40"
      },
      "execution_count": 41,
      "outputs": [
        {
          "output_type": "stream",
          "name": "stdout",
          "text": [
            "{'name': 'Bob', 'city': 'New York'}\n"
          ]
        }
      ]
    },
    {
      "cell_type": "markdown",
      "source": [
        "# 25. Write a code to check if the key \"city\" exists in the dictionary {'name': 'Alice', 'city': 'Paris'}"
      ],
      "metadata": {
        "id": "P3viT2_4XUGS"
      }
    },
    {
      "cell_type": "code",
      "source": [
        "x = {'name': 'Alice', 'city': 'Paris'}\n",
        "\n",
        "if 'city' in x:\n",
        "    print(\"Key 'city' exists in the dictionary.\")\n",
        "else:\n",
        "    print(\"Key 'city' does not exist.\")\n"
      ],
      "metadata": {
        "colab": {
          "base_uri": "https://localhost:8080/"
        },
        "id": "qWATRL6mXRxg",
        "outputId": "0f30d10b-a45c-4708-dd6e-1ae9c67fb4c7"
      },
      "execution_count": 42,
      "outputs": [
        {
          "output_type": "stream",
          "name": "stdout",
          "text": [
            "Key 'city' exists in the dictionary.\n"
          ]
        }
      ]
    },
    {
      "cell_type": "markdown",
      "source": [
        "# 26. Write a code to create a list, a tuple, and a dictionary, and print them all"
      ],
      "metadata": {
        "id": "TAQp97A2XycR"
      }
    },
    {
      "cell_type": "code",
      "source": [
        "# Creating a list\n",
        "my_list = [1, 2, 3, 4]\n",
        "\n",
        "# Creating a tuple\n",
        "my_tuple = ('a', 'b', 'c')\n",
        "\n",
        "# Creating a dictionary\n",
        "my_dict = {'name': 'Shubham', 'age': 25}\n",
        "\n",
        "# Printing all\n",
        "print(\"List:\", my_list)\n",
        "print(\"Tuple:\", my_tuple)\n",
        "print(\"Dictionary:\", my_dict)\n"
      ],
      "metadata": {
        "colab": {
          "base_uri": "https://localhost:8080/"
        },
        "id": "sIV9uYtfXtzm",
        "outputId": "c845c169-bb5e-4230-918a-acaf9995263f"
      },
      "execution_count": 43,
      "outputs": [
        {
          "output_type": "stream",
          "name": "stdout",
          "text": [
            "List: [1, 2, 3, 4]\n",
            "Tuple: ('a', 'b', 'c')\n",
            "Dictionary: {'name': 'Shubham', 'age': 25}\n"
          ]
        }
      ]
    },
    {
      "cell_type": "markdown",
      "source": [
        "#  27. Write a code to create a list of 5 random numbers between 1 and 100, sort it in ascending order, and print the result."
      ],
      "metadata": {
        "id": "-OjUOohlYPbu"
      }
    },
    {
      "cell_type": "code",
      "source": [
        "import random\n",
        "\n",
        "# Create a list of 5 random numbers between 1 and 100\n",
        "random_list = random.sample(range(1, 101), 5)\n",
        "\n",
        "# Sort the list in ascending order\n",
        "random_list.sort()\n",
        "\n",
        "# Print the result\n",
        "print(\"Sorted Random List:\", random_list)\n"
      ],
      "metadata": {
        "colab": {
          "base_uri": "https://localhost:8080/"
        },
        "id": "IAZ9rJsNYGBl",
        "outputId": "fec42eb5-2a71-4471-aafa-3131dffde580"
      },
      "execution_count": 44,
      "outputs": [
        {
          "output_type": "stream",
          "name": "stdout",
          "text": [
            "Sorted Random List: [8, 18, 53, 59, 100]\n"
          ]
        }
      ]
    },
    {
      "cell_type": "markdown",
      "source": [
        "# 28. Write a code to create a list with strings and print the element at the third index."
      ],
      "metadata": {
        "id": "tCErvsQ7ZjQv"
      }
    },
    {
      "cell_type": "code",
      "source": [
        "my_list = ['apple', 'banana', 'cherry', 'date', 'baigan']\n",
        "print(my_list[3])\n",
        "\n"
      ],
      "metadata": {
        "colab": {
          "base_uri": "https://localhost:8080/"
        },
        "id": "ypy7KRmPZNjW",
        "outputId": "9d21d42f-8544-40f8-a486-71c1f3f1784e"
      },
      "execution_count": 45,
      "outputs": [
        {
          "output_type": "stream",
          "name": "stdout",
          "text": [
            "date\n"
          ]
        }
      ]
    },
    {
      "cell_type": "markdown",
      "source": [
        "#  29. Write a code to combine two dictionaries into one and print the result."
      ],
      "metadata": {
        "id": "-17TtTAZaBZg"
      }
    },
    {
      "cell_type": "code",
      "source": [
        "dict1 = {'a': 1, 'b': 2}\n",
        "dict2 = {'b': 3, 'c': 4}\n",
        "\n",
        "# Combine dictionaries using update()\n",
        "dict1.update(dict2)\n",
        "\n",
        "# Print the result\n",
        "print(\"Combined Dictionary:\", dict1)\n"
      ],
      "metadata": {
        "colab": {
          "base_uri": "https://localhost:8080/"
        },
        "id": "FEL22jVcZ9JZ",
        "outputId": "7535ba75-1e1f-4c0b-db0d-75c1f1bbc2f6"
      },
      "execution_count": 46,
      "outputs": [
        {
          "output_type": "stream",
          "name": "stdout",
          "text": [
            "Combined Dictionary: {'a': 1, 'b': 3, 'c': 4}\n"
          ]
        }
      ]
    },
    {
      "cell_type": "markdown",
      "source": [
        "#  30. Write a code to convert a list of strings into a set."
      ],
      "metadata": {
        "id": "OwDuM_oHaxTg"
      }
    },
    {
      "cell_type": "code",
      "source": [
        "my_list = ['apple', 'banana', 'cherry', 'date', 'baigan']\n",
        "my_set = set(my_list)\n",
        "print(my_set)\n"
      ],
      "metadata": {
        "colab": {
          "base_uri": "https://localhost:8080/"
        },
        "id": "OOK4PCK6aash",
        "outputId": "63ef4344-4cec-4c49-f6b1-769081eeccfb"
      },
      "execution_count": 48,
      "outputs": [
        {
          "output_type": "stream",
          "name": "stdout",
          "text": [
            "{'baigan', 'banana', 'date', 'apple', 'cherry'}\n"
          ]
        }
      ]
    }
  ]
}